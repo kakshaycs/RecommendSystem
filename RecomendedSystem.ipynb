{
  "nbformat": 4,
  "nbformat_minor": 0,
  "metadata": {
    "colab": {
      "name": "RecomendedSystem.ipynb",
      "version": "0.3.2",
      "provenance": [],
      "collapsed_sections": [],
      "include_colab_link": true
    },
    "kernelspec": {
      "name": "python3",
      "display_name": "Python 3"
    },
    "accelerator": "GPU"
  },
  "cells": [
    {
      "cell_type": "markdown",
      "metadata": {
        "id": "view-in-github",
        "colab_type": "text"
      },
      "source": [
        "<a href=\"https://colab.research.google.com/github/kakshaycs/RecommendSystem/blob/master/RecomendedSystem.ipynb\" target=\"_parent\"><img src=\"https://colab.research.google.com/assets/colab-badge.svg\" alt=\"Open In Colab\"/></a>"
      ]
    },
    {
      "cell_type": "markdown",
      "metadata": {
        "id": "vZPCqmuCGdGe",
        "colab_type": "text"
      },
      "source": [
        "### **A recommender system or a recommendation system (sometimes replacing \"system\" with a synonym such as platform or engine) is a subclass of information filtering system that seeks to predict the \"rating\" or \"preference\" a user would give to an item.They are primarily used in commercial applications bold text** <br>\n",
        "In this system we have a large no of user vs Song Id data where, users rated more than one song according to their preference and system will find some ralation between more than one user and more than one songs and find a abstract function that can try to predict ration for a song which are not rated by user and according to the rating we will recommend those songs to same user.that may like according to their activity of rating "
      ]
    },
    {
      "cell_type": "code",
      "metadata": {
        "id": "HzgRrPCFWakp",
        "colab_type": "code",
        "colab": {}
      },
      "source": [
        "# Importing Data\n",
        "\n",
        "import numpy as np\n",
        "import pandas as pd\n",
        "import matplotlib as plt\n",
        "import seaborn as sns\n",
        "from IPython.display import display, clear_output\n",
        "from random import uniform\n",
        "import time\n",
        "from random import randint"
      ],
      "execution_count": 0,
      "outputs": []
    },
    {
      "cell_type": "code",
      "metadata": {
        "id": "yrZQh7n5i3z7",
        "colab_type": "code",
        "outputId": "23c6e18b-3c96-4ecc-fd30-3889ef3045cb",
        "colab": {
          "base_uri": "https://localhost:8080/",
          "height": 121
        }
      },
      "source": [
        "# Run this cell to mount your Google Drive.\n",
        "from google.colab import drive\n",
        "drive.mount('/content/drive/')"
      ],
      "execution_count": 0,
      "outputs": [
        {
          "output_type": "stream",
          "text": [
            "Go to this URL in a browser: https://accounts.google.com/o/oauth2/auth?client_id=947318989803-6bn6qk8qdgf4n4g3pfee6491hc0brc4i.apps.googleusercontent.com&redirect_uri=urn%3Aietf%3Awg%3Aoauth%3A2.0%3Aoob&scope=email%20https%3A%2F%2Fwww.googleapis.com%2Fauth%2Fdocs.test%20https%3A%2F%2Fwww.googleapis.com%2Fauth%2Fdrive%20https%3A%2F%2Fwww.googleapis.com%2Fauth%2Fdrive.photos.readonly%20https%3A%2F%2Fwww.googleapis.com%2Fauth%2Fpeopleapi.readonly&response_type=code\n",
            "\n",
            "Enter your authorization code:\n",
            "··········\n",
            "Mounted at /content/drive/\n"
          ],
          "name": "stdout"
        }
      ]
    },
    {
      "cell_type": "code",
      "metadata": {
        "id": "YIbe0kMsjHBN",
        "colab_type": "code",
        "colab": {}
      },
      "source": [
        "#loading data\n",
        "data=pd.read_csv(\"drive/My Drive/Colab Notebooks/Recommended System/songsDataset.csv\")"
      ],
      "execution_count": 0,
      "outputs": []
    },
    {
      "cell_type": "code",
      "metadata": {
        "id": "hOJ_oyUS1Jo3",
        "colab_type": "code",
        "outputId": "1a40bef0-d4de-4374-ca1b-627fdc780133",
        "colab": {
          "base_uri": "https://localhost:8080/",
          "height": 195
        }
      },
      "source": [
        "data.head()"
      ],
      "execution_count": 0,
      "outputs": [
        {
          "output_type": "execute_result",
          "data": {
            "text/html": [
              "<div>\n",
              "<style scoped>\n",
              "    .dataframe tbody tr th:only-of-type {\n",
              "        vertical-align: middle;\n",
              "    }\n",
              "\n",
              "    .dataframe tbody tr th {\n",
              "        vertical-align: top;\n",
              "    }\n",
              "\n",
              "    .dataframe thead th {\n",
              "        text-align: right;\n",
              "    }\n",
              "</style>\n",
              "<table border=\"1\" class=\"dataframe\">\n",
              "  <thead>\n",
              "    <tr style=\"text-align: right;\">\n",
              "      <th></th>\n",
              "      <th>'userID'</th>\n",
              "      <th>'songID'</th>\n",
              "      <th>'rating'</th>\n",
              "    </tr>\n",
              "  </thead>\n",
              "  <tbody>\n",
              "    <tr>\n",
              "      <th>0</th>\n",
              "      <td>0</td>\n",
              "      <td>7171</td>\n",
              "      <td>5</td>\n",
              "    </tr>\n",
              "    <tr>\n",
              "      <th>1</th>\n",
              "      <td>0</td>\n",
              "      <td>8637</td>\n",
              "      <td>4</td>\n",
              "    </tr>\n",
              "    <tr>\n",
              "      <th>2</th>\n",
              "      <td>0</td>\n",
              "      <td>21966</td>\n",
              "      <td>4</td>\n",
              "    </tr>\n",
              "    <tr>\n",
              "      <th>3</th>\n",
              "      <td>0</td>\n",
              "      <td>35821</td>\n",
              "      <td>5</td>\n",
              "    </tr>\n",
              "    <tr>\n",
              "      <th>4</th>\n",
              "      <td>0</td>\n",
              "      <td>82446</td>\n",
              "      <td>5</td>\n",
              "    </tr>\n",
              "  </tbody>\n",
              "</table>\n",
              "</div>"
            ],
            "text/plain": [
              "   'userID'  'songID'  'rating'\n",
              "0         0      7171         5\n",
              "1         0      8637         4\n",
              "2         0     21966         4\n",
              "3         0     35821         5\n",
              "4         0     82446         5"
            ]
          },
          "metadata": {
            "tags": []
          },
          "execution_count": 4
        }
      ]
    },
    {
      "cell_type": "code",
      "metadata": {
        "id": "h-HDLPYFWspP",
        "colab_type": "code",
        "colab": {}
      },
      "source": [
        "# change column name\n",
        "data.columns=['userID','songID','rating']"
      ],
      "execution_count": 0,
      "outputs": []
    },
    {
      "cell_type": "code",
      "metadata": {
        "id": "oiLtLzPSmvGC",
        "colab_type": "code",
        "outputId": "56f0799d-0c8c-4d9c-9b08-057fef10f632",
        "colab": {
          "base_uri": "https://localhost:8080/",
          "height": 50
        }
      },
      "source": [
        "# the no of user and Movie\n",
        "\n",
        "print(\"Total no of User:- \",len(set(data['songID'])))\n",
        "print(\"Total no of Songs\",len(set(data['userID'])))"
      ],
      "execution_count": 0,
      "outputs": [
        {
          "output_type": "stream",
          "text": [
            "Total no of User:-  127771\n",
            "Total no of Songs 200000\n"
          ],
          "name": "stdout"
        }
      ]
    },
    {
      "cell_type": "code",
      "metadata": {
        "id": "KsqHG5Xcmxq_",
        "colab_type": "code",
        "outputId": "1a8a2e8f-cd3a-4488-aa1b-ad6ecf98b919",
        "colab": {
          "base_uri": "https://localhost:8080/",
          "height": 34
        }
      },
      "source": [
        "# this is the Rating matrix that contain column is user and rows is movies\n",
        "\"\"\"    | movie1 | movie2 | movie3 \n",
        " user1  |   5    |    4   |    1\n",
        " user2  |   3    |        |    5\n",
        " user3  |   5    |    3   |    \n",
        "  \n",
        "\"\"\"\n",
        "# the R matrix is boolean matrix that denote user rated that movie or not\n",
        "print()"
      ],
      "execution_count": 0,
      "outputs": [
        {
          "output_type": "stream",
          "text": [
            "\n"
          ],
          "name": "stdout"
        }
      ]
    },
    {
      "cell_type": "markdown",
      "metadata": {
        "id": "aE718TTz9bSk",
        "colab_type": "text"
      },
      "source": [
        "There are 127771 users which have rated a least one song with (0-5) rating parameter. And there are 200000 songs that is rated by the users.<br>\n",
        "This system is using **Matrix factorization** technique to predict songs for particular user which haven't rated those songs.<br>\n",
        "# Matrix factorization"
      ]
    },
    {
      "cell_type": "markdown",
      "metadata": {
        "id": "FhQE74YpLi_e",
        "colab_type": "text"
      },
      "source": [
        "![alt text](https://cdn-images-1.medium.com/max/1600/1*Zhm1NMlmVywn0G18w3exog.png)"
      ]
    },
    {
      "cell_type": "markdown",
      "metadata": {
        "id": "hV7F3klULJZn",
        "colab_type": "text"
      },
      "source": [
        "##Matrix factorization is a class of collaborative filtering algorithms used in recommender systems. Matrix factorization algorithms work by decomposing the user-item interaction matrix into the product of two lower dimensionality rectangular matrices.<br>\n",
        "\n",
        "---\n",
        "\n",
        "If we use matrix method to store the rating so it take 127771 * 200000 <br>\n",
        "Total entry is about **25554200000**.which will take about **95 GB** of RAM if we load the whole matrix at a time in RAM. Is very difficult to handle so much large data.\n",
        "So, there are several aternative to take of these problem<br>\n",
        "\n",
        "1.   Read in a chunk\n",
        "2. Process the chunk\n",
        "3. Save the results of the chunk\n",
        "4. Repeat steps 1 to 3 until we have all chunk results\n",
        "5. Combine the chunk results\n",
        "\n",
        "But as a good knowledge of Alorithm and datastructure we will take care which out using any type of chunk. we store the matrix in Dictionary. Because, given matrix is sparse matrix and we need to handle only 2000000 of user and songs combination so Dictionary will play a important role."
      ]
    },
    {
      "cell_type": "code",
      "metadata": {
        "id": "Omx8kkvgm3QL",
        "colab_type": "code",
        "outputId": "fd5b23f4-3216-4d23-c239-7e13773979fd",
        "colab": {
          "base_uri": "https://localhost:8080/",
          "height": 34
        }
      },
      "source": [
        "Rating = dict()\n",
        "for i in range(2000000):\n",
        "  Rating[(data['userID'][i],data['songID'][i])] = data['rating'][i]\n",
        "  if i%100000==0:\n",
        "    clear_output(wait=True)\n",
        "    print(\"complete :- \",i/(20000))"
      ],
      "execution_count": 0,
      "outputs": [
        {
          "output_type": "stream",
          "text": [
            "complete :-  95.0\n"
          ],
          "name": "stdout"
        }
      ]
    },
    {
      "cell_type": "markdown",
      "metadata": {
        "id": "4qXVTLcv9zXQ",
        "colab_type": "text"
      },
      "source": [
        "We don't know about the features of different songs and what type of songs a user like and dislike. We have only rating by a users <br>\n",
        "Lets sppose ***user 1*** give 5 start to ***song x*** and <br>\n",
        " ***user 2*** also give 5 star to ***song x***<br>,so by only two rating we can conclude that somehow ***user 1*** and ***user 2*** have similar interest.<br>\n",
        " And if ***user 1*** rated a ***song y*** to 4 star, So there is large probability that ***user 2*** will also rated ***song y*** to 4 \n",
        " \n",
        "\n",
        "---\n",
        "\n",
        "So that we assume some features of songs, on the basis of that features a user will predict its rating.<br>\n",
        "Only asigning features for a song will not help much but we have also some parameters that for a user too.<br>\n",
        "Both the feature of the songs and parameters of a user can solve our problem.<br>\n",
        "And one more things both the parameter and the feature are same in numbers but may different in values.<br>\n",
        "We assigning 5 features for songs and 5 parameters for a user and set a small random value for both features and parameters"
      ]
    },
    {
      "cell_type": "markdown",
      "metadata": {
        "id": "0hjemWq1-B8H",
        "colab_type": "text"
      },
      "source": [
        "example:-           \n",
        "\n",
        "1.   melody\n",
        "2.   romance\n",
        "3. Rock\n",
        "4. pop\n",
        "5. classic"
      ]
    },
    {
      "cell_type": "markdown",
      "metadata": {
        "id": "PeRrvJ2m_AkQ",
        "colab_type": "text"
      },
      "source": [
        "***We will assign a random value for each categories in User And Songs Features***\n",
        "\n",
        "\n",
        "---\n",
        "\n",
        "\n",
        "Total no of User is 127771 and Songs is 200000 <br> \n",
        "So we create two matrix    USER (127771  ,  5) and Song  (200000, 5)"
      ]
    },
    {
      "cell_type": "code",
      "metadata": {
        "id": "setgZqFZ6m69",
        "colab_type": "code",
        "colab": {}
      },
      "source": [
        "def randomR():\n",
        "  return round(randint(0,100)/randint(1,100),3)"
      ],
      "execution_count": 0,
      "outputs": []
    },
    {
      "cell_type": "markdown",
      "metadata": {
        "id": "qINiv8F4YghQ",
        "colab_type": "text"
      },
      "source": [
        "**Assigning Random variable to the features and parameters**"
      ]
    },
    {
      "cell_type": "code",
      "metadata": {
        "id": "OjJWBvCp7VYl",
        "colab_type": "code",
        "colab": {}
      },
      "source": [
        "USERS = np.array([[randomR() for i in range(5)] for i in range(127771)])\n",
        "SONGS = np.array([[randomR() for i in range(5)] for i in range(200000)])"
      ],
      "execution_count": 0,
      "outputs": []
    },
    {
      "cell_type": "markdown",
      "metadata": {
        "id": "BcChDrMuZK4e",
        "colab_type": "text"
      },
      "source": [
        "***OUR GOAL***\n",
        "\n",
        "We need to find dot product of the features and parameters of a user and a songs to find approximate rating, and accoring to the error we got, we will modify the both features and parameters .<br>\n",
        "We will repeat this step until the error will minimize<br>\n",
        "After the minimization of error we got some specific value in features and parameters. And that help to predict the unrated songs."
      ]
    },
    {
      "cell_type": "code",
      "metadata": {
        "id": "lslp36b4ZI5F",
        "colab_type": "code",
        "colab": {}
      },
      "source": [
        "# define a function that produce dot product of Songs[i],user[j]\n",
        "def DOT(A,B):\n",
        "  Temp=0\n",
        "  for i in range(5):\n",
        "    Temp+=A[i]*B[i]\n",
        "  return Temp"
      ],
      "execution_count": 0,
      "outputs": []
    },
    {
      "cell_type": "code",
      "metadata": {
        "id": "76PgdpvkZItq",
        "colab_type": "code",
        "colab": {}
      },
      "source": [
        ""
      ],
      "execution_count": 0,
      "outputs": []
    },
    {
      "cell_type": "code",
      "metadata": {
        "id": "iSPC5AN6ZIPE",
        "colab_type": "code",
        "colab": {}
      },
      "source": [
        ""
      ],
      "execution_count": 0,
      "outputs": []
    },
    {
      "cell_type": "markdown",
      "metadata": {
        "id": "_B_M8ts8Yz_B",
        "colab_type": "text"
      },
      "source": [
        "## rough work"
      ]
    },
    {
      "cell_type": "code",
      "metadata": {
        "id": "m78tZRl4Dhk3",
        "colab_type": "code",
        "colab": {}
      },
      "source": [
        ""
      ],
      "execution_count": 0,
      "outputs": []
    },
    {
      "cell_type": "code",
      "metadata": {
        "id": "3cPuZCHlE6-R",
        "colab_type": "code",
        "colab": {}
      },
      "source": [
        "A=dict()\n",
        "A['akshay']=1\n",
        "A['kumar']=2\n",
        "A['singh']=3"
      ],
      "execution_count": 0,
      "outputs": []
    },
    {
      "cell_type": "code",
      "metadata": {
        "id": "9fAszaY8IFJt",
        "colab_type": "code",
        "outputId": "bdf67e1d-6939-44ba-f627-9b7e3dfb6453",
        "colab": {
          "base_uri": "https://localhost:8080/",
          "height": 34
        }
      },
      "source": [
        "A"
      ],
      "execution_count": 0,
      "outputs": [
        {
          "output_type": "execute_result",
          "data": {
            "text/plain": [
              "{'akshay': 1, 'kumar': 2, 'singh': 3}"
            ]
          },
          "metadata": {
            "tags": []
          },
          "execution_count": 82
        }
      ]
    },
    {
      "cell_type": "code",
      "metadata": {
        "id": "lLQrWAhsIJE5",
        "colab_type": "code",
        "outputId": "d844cb7e-865e-47b0-e99b-376a4e1a1cc6",
        "colab": {
          "base_uri": "https://localhost:8080/",
          "height": 67
        }
      },
      "source": [
        "for i in A:\n",
        "  print(i)"
      ],
      "execution_count": 0,
      "outputs": [
        {
          "output_type": "stream",
          "text": [
            "akshay\n",
            "kumar\n",
            "singh\n"
          ],
          "name": "stdout"
        }
      ]
    },
    {
      "cell_type": "code",
      "metadata": {
        "id": "Oyw6JKtIIM_G",
        "colab_type": "code",
        "outputId": "4b00cf50-3a67-4df1-c956-7257bc6d4152",
        "colab": {
          "base_uri": "https://localhost:8080/",
          "height": 34
        }
      },
      "source": [
        " 127771 * 200000 *4"
      ],
      "execution_count": 0,
      "outputs": [
        {
          "output_type": "execute_result",
          "data": {
            "text/plain": [
              "102216800000"
            ]
          },
          "metadata": {
            "tags": []
          },
          "execution_count": 9
        }
      ]
    },
    {
      "cell_type": "code",
      "metadata": {
        "id": "HFsIjNB2IpYS",
        "colab_type": "code",
        "outputId": "6047b39e-733d-4e73-b863-7d68a45c350e",
        "colab": {
          "base_uri": "https://localhost:8080/",
          "height": 34
        }
      },
      "source": [
        "102216800000/(2**30)"
      ],
      "execution_count": 0,
      "outputs": [
        {
          "output_type": "execute_result",
          "data": {
            "text/plain": [
              "95.19681334495544"
            ]
          },
          "metadata": {
            "tags": []
          },
          "execution_count": 14
        }
      ]
    },
    {
      "cell_type": "code",
      "metadata": {
        "id": "KwbjYm0qPDis",
        "colab_type": "code",
        "outputId": "b4cde84a-d457-4e70-a785-50e4128aa965",
        "colab": {
          "base_uri": "https://localhost:8080/",
          "height": 34
        }
      },
      "source": [
        "2**10"
      ],
      "execution_count": 0,
      "outputs": [
        {
          "output_type": "execute_result",
          "data": {
            "text/plain": [
              "1024"
            ]
          },
          "metadata": {
            "tags": []
          },
          "execution_count": 12
        }
      ]
    }
  ]
}