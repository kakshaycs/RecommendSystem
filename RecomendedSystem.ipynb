{
  "nbformat": 4,
  "nbformat_minor": 0,
  "metadata": {
    "colab": {
      "name": "RecomendedSystem.ipynb",
      "version": "0.3.2",
      "provenance": [],
      "collapsed_sections": [],
      "include_colab_link": true
    },
    "kernelspec": {
      "name": "python3",
      "display_name": "Python 3"
    },
    "accelerator": "GPU"
  },
  "cells": [
    {
      "cell_type": "markdown",
      "metadata": {
        "id": "view-in-github",
        "colab_type": "text"
      },
      "source": [
        "<a href=\"https://colab.research.google.com/github/kakshaycs/RecommendSystem/blob/master/RecomendedSystem.ipynb\" target=\"_parent\"><img src=\"https://colab.research.google.com/assets/colab-badge.svg\" alt=\"Open In Colab\"/></a>"
      ]
    },
    {
      "cell_type": "markdown",
      "metadata": {
        "id": "vZPCqmuCGdGe",
        "colab_type": "text"
      },
      "source": [
        "### **A recommender system or a recommendation system (sometimes replacing \"system\" with a synonym such as platform or engine) is a subclass of information filtering system that seeks to predict the \"rating\" or \"preference\" a user would give to an item.They are primarily used in commercial applications bold text** <br>\n",
        "In this system we have a large no of user vs Song Id data where, users rated more than one song according to their preference and system will find some ralation between more than one user and more than one songs and find a abstract function that can try to predict ration for a song which are not rated by user and according to the rating we will recommend those songs to same user.that may like according to their activity of rating "
      ]
    },
    {
      "cell_type": "code",
      "metadata": {
        "id": "HzgRrPCFWakp",
        "colab_type": "code",
        "colab": {}
      },
      "source": [
        "# Importing Data\n",
        "\n",
        "import numpy as np\n",
        "import pandas as pd\n",
        "import matplotlib.pyplot as plt\n",
        "import seaborn as sns\n",
        "from IPython.display import display, clear_output\n",
        "from random import uniform\n",
        "import time\n",
        "from random import randint"
      ],
      "execution_count": 0,
      "outputs": []
    },
    {
      "cell_type": "code",
      "metadata": {
        "id": "yrZQh7n5i3z7",
        "colab_type": "code",
        "colab": {
          "base_uri": "https://localhost:8080/",
          "height": 33
        },
        "outputId": "87e35634-aa01-444d-9775-067a90b11a18"
      },
      "source": [
        "# Run this cell to mount your Google Drive.\n",
        "from google.colab import drive\n",
        "drive.mount('/content/drive/')"
      ],
      "execution_count": 49,
      "outputs": [
        {
          "output_type": "stream",
          "text": [
            "Drive already mounted at /content/drive/; to attempt to forcibly remount, call drive.mount(\"/content/drive/\", force_remount=True).\n"
          ],
          "name": "stdout"
        }
      ]
    },
    {
      "cell_type": "code",
      "metadata": {
        "id": "YIbe0kMsjHBN",
        "colab_type": "code",
        "colab": {}
      },
      "source": [
        "#loading data\n",
        "data=pd.read_csv(\"drive/My Drive/Colab Notebooks/Recommended System/songsDataset.csv\")"
      ],
      "execution_count": 0,
      "outputs": []
    },
    {
      "cell_type": "code",
      "metadata": {
        "id": "hOJ_oyUS1Jo3",
        "colab_type": "code",
        "colab": {
          "base_uri": "https://localhost:8080/",
          "height": 196
        },
        "outputId": "4389086f-539a-4500-92b5-acb37190366c"
      },
      "source": [
        "data.head()"
      ],
      "execution_count": 51,
      "outputs": [
        {
          "output_type": "execute_result",
          "data": {
            "text/html": [
              "<div>\n",
              "<style scoped>\n",
              "    .dataframe tbody tr th:only-of-type {\n",
              "        vertical-align: middle;\n",
              "    }\n",
              "\n",
              "    .dataframe tbody tr th {\n",
              "        vertical-align: top;\n",
              "    }\n",
              "\n",
              "    .dataframe thead th {\n",
              "        text-align: right;\n",
              "    }\n",
              "</style>\n",
              "<table border=\"1\" class=\"dataframe\">\n",
              "  <thead>\n",
              "    <tr style=\"text-align: right;\">\n",
              "      <th></th>\n",
              "      <th>'userID'</th>\n",
              "      <th>'songID'</th>\n",
              "      <th>'rating'</th>\n",
              "    </tr>\n",
              "  </thead>\n",
              "  <tbody>\n",
              "    <tr>\n",
              "      <th>0</th>\n",
              "      <td>0</td>\n",
              "      <td>7171</td>\n",
              "      <td>5</td>\n",
              "    </tr>\n",
              "    <tr>\n",
              "      <th>1</th>\n",
              "      <td>0</td>\n",
              "      <td>8637</td>\n",
              "      <td>4</td>\n",
              "    </tr>\n",
              "    <tr>\n",
              "      <th>2</th>\n",
              "      <td>0</td>\n",
              "      <td>21966</td>\n",
              "      <td>4</td>\n",
              "    </tr>\n",
              "    <tr>\n",
              "      <th>3</th>\n",
              "      <td>0</td>\n",
              "      <td>35821</td>\n",
              "      <td>5</td>\n",
              "    </tr>\n",
              "    <tr>\n",
              "      <th>4</th>\n",
              "      <td>0</td>\n",
              "      <td>82446</td>\n",
              "      <td>5</td>\n",
              "    </tr>\n",
              "  </tbody>\n",
              "</table>\n",
              "</div>"
            ],
            "text/plain": [
              "   'userID'  'songID'  'rating'\n",
              "0         0      7171         5\n",
              "1         0      8637         4\n",
              "2         0     21966         4\n",
              "3         0     35821         5\n",
              "4         0     82446         5"
            ]
          },
          "metadata": {
            "tags": []
          },
          "execution_count": 51
        }
      ]
    },
    {
      "cell_type": "code",
      "metadata": {
        "id": "h-HDLPYFWspP",
        "colab_type": "code",
        "colab": {
          "base_uri": "https://localhost:8080/",
          "height": 33
        },
        "outputId": "1e337baf-12cc-48f6-f53b-3404e481791b"
      },
      "source": [
        "# change column name\n",
        "data.columns=['userID','songID','rating']\n",
        "data.shape"
      ],
      "execution_count": 52,
      "outputs": [
        {
          "output_type": "execute_result",
          "data": {
            "text/plain": [
              "(2000000, 3)"
            ]
          },
          "metadata": {
            "tags": []
          },
          "execution_count": 52
        }
      ]
    },
    {
      "cell_type": "code",
      "metadata": {
        "id": "oytkKrlz0mxd",
        "colab_type": "code",
        "colab": {
          "base_uri": "https://localhost:8080/",
          "height": 311
        },
        "outputId": "35541cf8-5451-444d-8b16-abeabb7d84c2"
      },
      "source": [
        "\n",
        "sns.countplot(x='rating',data = data)\n",
        "plt.title('Distribution of rating')"
      ],
      "execution_count": 53,
      "outputs": [
        {
          "output_type": "execute_result",
          "data": {
            "text/plain": [
              "Text(0.5, 1.0, 'Distribution of rating')"
            ]
          },
          "metadata": {
            "tags": []
          },
          "execution_count": 53
        },
        {
          "output_type": "display_data",
          "data": {
            "image/png": "[encoded data removed]",
            "text/plain": [
              "<Figure size 432x288 with 1 Axes>"
            ]
          },
          "metadata": {
            "tags": []
          }
        }
      ]
    },
    {
      "cell_type": "code",
      "metadata": {
        "id": "wsyi8MN90m1z",
        "colab_type": "code",
        "colab": {}
      },
      "source": [
        ""
      ],
      "execution_count": 0,
      "outputs": []
    },
    {
      "cell_type": "code",
      "metadata": {
        "id": "V8NT_BT00mzB",
        "colab_type": "code",
        "colab": {}
      },
      "source": [
        ""
      ],
      "execution_count": 0,
      "outputs": []
    },
    {
      "cell_type": "code",
      "metadata": {
        "id": "VIYLNWr00msl",
        "colab_type": "code",
        "colab": {}
      },
      "source": [
        ""
      ],
      "execution_count": 0,
      "outputs": []
    },
    {
      "cell_type": "code",
      "metadata": {
        "id": "zLGLKkcz0moh",
        "colab_type": "code",
        "colab": {}
      },
      "source": [
        ""
      ],
      "execution_count": 0,
      "outputs": []
    },
    {
      "cell_type": "code",
      "metadata": {
        "id": "oiLtLzPSmvGC",
        "colab_type": "code",
        "colab": {
          "base_uri": "https://localhost:8080/",
          "height": 50
        },
        "outputId": "2fc0dd56-4f95-478e-87bd-d9eae51d1334"
      },
      "source": [
        "# the no of user and Movie\n",
        "\n",
        "print(\"Total no of User:- \",len(set(data['userID'])))\n",
        "print(\"Total no of Songs\",len(set(data['songID'])))"
      ],
      "execution_count": 72,
      "outputs": [
        {
          "output_type": "stream",
          "text": [
            "Total no of User:-  200000\n",
            "Total no of Songs 127771\n"
          ],
          "name": "stdout"
        }
      ]
    },
    {
      "cell_type": "code",
      "metadata": {
        "id": "KsqHG5Xcmxq_",
        "colab_type": "code",
        "colab": {
          "base_uri": "https://localhost:8080/",
          "height": 33
        },
        "outputId": "82a217ec-8709-4976-93b7-0f74b5e01701"
      },
      "source": [
        "# this is the Rating matrix that contain column is user and rows is movies\n",
        "\"\"\"    | movie1 | movie2 | movie3 \n",
        " user1  |   5    |    4   |    1\n",
        " user2  |   3    |        |    5\n",
        " user3  |   5    |    3   |    \n",
        "  \n",
        "\"\"\"\n",
        "# the R matrix is boolean matrix that denote user rated that movie or not\n",
        "print()"
      ],
      "execution_count": 55,
      "outputs": [
        {
          "output_type": "stream",
          "text": [
            "\n"
          ],
          "name": "stdout"
        }
      ]
    },
    {
      "cell_type": "markdown",
      "metadata": {
        "id": "aE718TTz9bSk",
        "colab_type": "text"
      },
      "source": [
        "There are 127771 users which have rated a least one song with (0-5) rating parameter. And there are 200000 songs that is rated by the users.<br>\n",
        "This system is using **Matrix factorization** technique to predict songs for particular user which haven't rated those songs.<br>\n",
        "# Matrix factorization"
      ]
    },
    {
      "cell_type": "markdown",
      "metadata": {
        "id": "FhQE74YpLi_e",
        "colab_type": "text"
      },
      "source": [
        "![alt text](https://cdn-images-1.medium.com/max/1600/1*Zhm1NMlmVywn0G18w3exog.png)"
      ]
    },
    {
      "cell_type": "markdown",
      "metadata": {
        "id": "m2BFDIuM5hvM",
        "colab_type": "text"
      },
      "source": [
        "###**The above image does an excellent job of summarizing, the core idea behind matrix factorization. Let there be matrix A with dimensionality of (m,n) this matrix can be viewed as a dot product between two matrix with each matrices having dimensions of (m,k) and (k,n).**"
      ]
    },
    {
      "cell_type": "markdown",
      "metadata": {
        "id": "hV7F3klULJZn",
        "colab_type": "text"
      },
      "source": [
        "##Matrix factorization is a class of collaborative filtering algorithms used in recommender systems. Matrix factorization algorithms work by decomposing the user-item interaction matrix into the product of two lower dimensionality rectangular matrices.<br>\n",
        "\n",
        "---\n",
        "\n",
        "If we use matrix method to store the rating so it take 127771 * 200000 <br>\n",
        "Total entry is about **25554200000**.which will take about **95 GB** of RAM if we load the whole matrix at a time in RAM. Is very difficult to handle so much large data.\n",
        "So, there are several aternative to take of these problem<br>\n",
        "\n",
        "1.   Read in a chunk\n",
        "2. Process the chunk\n",
        "3. Save the results of the chunk\n",
        "4. Repeat steps 1 to 3 until we have all chunk results\n",
        "5. Combine the chunk results\n",
        "\n",
        "But as a good knowledge of Alorithm and datastructure we will take care which out using any type of chunk. we store the matrix in Dictionary. Because, given matrix is sparse matrix and we need to handle only 2000000 of user and songs combination so Dictionary will play a important role."
      ]
    },
    {
      "cell_type": "code",
      "metadata": {
        "id": "Omx8kkvgm3QL",
        "colab_type": "code",
        "colab": {
          "base_uri": "https://localhost:8080/",
          "height": 33
        },
        "outputId": "30fae741-802a-4271-ad7b-0773a5ee881b"
      },
      "source": [
        "Rating = dict()\n",
        "for i in range(2000000):\n",
        "  Rating[(data['userID'][i],data['songID'][i])] = data['rating'][i]\n",
        "  if i%100000==0:\n",
        "    clear_output(wait=True)\n",
        "    print(\"complete :- \",i/(20000))"
      ],
      "execution_count": 74,
      "outputs": [
        {
          "output_type": "stream",
          "text": [
            "complete :-  95.0\n"
          ],
          "name": "stdout"
        }
      ]
    },
    {
      "cell_type": "markdown",
      "metadata": {
        "id": "4qXVTLcv9zXQ",
        "colab_type": "text"
      },
      "source": [
        "We don't know about the features of different songs and what type of songs a user like and dislike. We have only rating by a users <br>\n",
        "Lets sppose ***user 1*** give 5 start to ***song x*** and <br>\n",
        " ***user 2*** also give 5 star to ***song x***<br>,so by only two rating we can conclude that somehow ***user 1*** and ***user 2*** have similar interest.<br>\n",
        " And if ***user 1*** rated a ***song y*** to 4 star, So there is large probability that ***user 2*** will also rated ***song y*** to 4 \n",
        " \n",
        "\n",
        "---\n",
        "\n",
        "So that we assume some features of songs, on the basis of that features a user will predict its rating.<br>\n",
        "Only asigning features for a song will not help much but we have also some parameters that for a user too.<br>\n",
        "Both the feature of the songs and parameters of a user can solve our problem.<br>\n",
        "And one more things both the parameter and the feature are same in numbers but may different in values.<br>\n",
        "We assigning 5 features for songs and 5 parameters for a user and set a small random value for both features and parameters"
      ]
    },
    {
      "cell_type": "markdown",
      "metadata": {
        "id": "0hjemWq1-B8H",
        "colab_type": "text"
      },
      "source": [
        "example:-           \n",
        "\n",
        "1.   melody\n",
        "2.   romance\n",
        "3. Rock\n",
        "4. pop\n",
        "5. classic"
      ]
    },
    {
      "cell_type": "markdown",
      "metadata": {
        "id": "PeRrvJ2m_AkQ",
        "colab_type": "text"
      },
      "source": [
        "***We will assign a random value for each categories in User And Songs Features***\n",
        "\n",
        "\n",
        "---\n",
        "\n",
        "\n",
        "Total no of User is 200000 and Songs is 127771 <br> \n",
        "So we create two matrix    USER (200000  ,  5) and Song  (127771, 5)"
      ]
    },
    {
      "cell_type": "code",
      "metadata": {
        "id": "setgZqFZ6m69",
        "colab_type": "code",
        "colab": {}
      },
      "source": [
        "def randomR():\n",
        "  return round(randint(0,100)/randint(100,200),3)"
      ],
      "execution_count": 0,
      "outputs": []
    },
    {
      "cell_type": "markdown",
      "metadata": {
        "id": "qINiv8F4YghQ",
        "colab_type": "text"
      },
      "source": [
        "**Assigning Random variable to the features and parameters**"
      ]
    },
    {
      "cell_type": "code",
      "metadata": {
        "id": "OjJWBvCp7VYl",
        "colab_type": "code",
        "colab": {}
      },
      "source": [
        "USERS = np.array([[randomR() for i in range(5)] for i in range(200002)])\n",
        "SONGS = np.array([[randomR() for i in range(5)] for i in range(127773)])"
      ],
      "execution_count": 0,
      "outputs": []
    },
    {
      "cell_type": "markdown",
      "metadata": {
        "id": "BcChDrMuZK4e",
        "colab_type": "text"
      },
      "source": [
        "***OUR GOAL***\n",
        "\n",
        "We need to find dot product of the features and parameters of a user and a songs to find approximate rating, and accoring to the error we got, we will modify the both features and parameters .<br>\n",
        "We will repeat this step until the error will minimize<br>\n",
        "After the minimization of error we got some specific value in features and parameters. And that help to predict the unrated songs."
      ]
    },
    {
      "cell_type": "code",
      "metadata": {
        "id": "lslp36b4ZI5F",
        "colab_type": "code",
        "colab": {}
      },
      "source": [
        "# Indexing for each USERS and SONGS\n",
        "User=list(set(data['userID']))\n",
        "Song=list(set(data['songID']))\n",
        "U=dict()\n",
        "S=dict()\n",
        "for i in range(len(User)):\n",
        "    U[User[i]]=i\n",
        "for i in range(len(Song)):\n",
        "    S[Song[i]]=i\n"
      ],
      "execution_count": 0,
      "outputs": []
    },
    {
      "cell_type": "code",
      "metadata": {
        "id": "SbkNTWKfWPeK",
        "colab_type": "code",
        "colab": {}
      },
      "source": [
        ""
      ],
      "execution_count": 0,
      "outputs": []
    },
    {
      "cell_type": "code",
      "metadata": {
        "id": "hOM1GUaR4Phi",
        "colab_type": "code",
        "colab": {}
      },
      "source": [
        "# set parameters and learning rate\n",
        "alpha = 0.05\n",
        "lamda = 0.1\n",
        "E=[]"
      ],
      "execution_count": 0,
      "outputs": []
    },
    {
      "cell_type": "code",
      "metadata": {
        "id": "Za1NF_icM1XU",
        "colab_type": "code",
        "colab": {
          "base_uri": "https://localhost:8080/",
          "height": 351
        },
        "outputId": "9e7c03b2-15d9-4b86-b4d7-1e81560982d3"
      },
      "source": [
        "#learning with collaborating Filtering\n",
        "for itr in range(20):\n",
        "    error=0\n",
        "    for x in Rating:\n",
        "        i=U[x[0]]\n",
        "        j=S[x[1]]\n",
        "        d=sum(USERS[i,:] * SONGS[j,:]) -Rating[x]\n",
        "        error+=abs(d)\n",
        "        USERS[i,:] =  USERS[i,:] - alpha * (  d * SONGS[j,:] + lamda * USERS[i,:] )\n",
        "        SONGS[j,:] = SONGS[j,:] - alpha * (  d * USERS[i,:] + lamda * SONGS[j,:] )\n",
        "    E.append(round(error/2000000,4))\n",
        "    print(\"Iteration = \",itr,\"Error = \",E[itr])\n",
        "\n",
        "  "
      ],
      "execution_count": 94,
      "outputs": [
        {
          "output_type": "stream",
          "text": [
            "Iteration =  0 Error =  0.9898\n",
            "Iteration =  1 Error =  0.9541\n",
            "Iteration =  2 Error =  0.9029\n",
            "Iteration =  3 Error =  0.8579\n",
            "Iteration =  4 Error =  0.8214\n",
            "Iteration =  5 Error =  0.7917\n",
            "Iteration =  6 Error =  0.7671\n",
            "Iteration =  7 Error =  0.7464\n",
            "Iteration =  8 Error =  0.7288\n",
            "Iteration =  9 Error =  0.7137\n",
            "Iteration =  10 Error =  0.7007\n",
            "Iteration =  11 Error =  0.6893\n",
            "Iteration =  12 Error =  0.6793\n",
            "Iteration =  13 Error =  0.6705\n",
            "Iteration =  14 Error =  0.6626\n",
            "Iteration =  15 Error =  0.6557\n",
            "Iteration =  16 Error =  0.6494\n",
            "Iteration =  17 Error =  0.6438\n",
            "Iteration =  18 Error =  0.6387\n",
            "Iteration =  19 Error =  0.634\n"
          ],
          "name": "stdout"
        }
      ]
    },
    {
      "cell_type": "code",
      "metadata": {
        "id": "YZOClb1aX9Bj",
        "colab_type": "code",
        "colab": {
          "base_uri": "https://localhost:8080/",
          "height": 283
        },
        "outputId": "5c304317-5b62-4d25-d763-f692832d5978"
      },
      "source": [
        "plt.plot(range(20),E)\n",
        "plt.xlabel(\"number of Iteration\")\n",
        "plt.ylabel(\"Error\")\n",
        "plt.show()"
      ],
      "execution_count": 96,
      "outputs": [
        {
          "output_type": "display_data",
          "data": {
            "image/png": "[encoded data removed]",
            "text/plain": [
              "<Figure size 432x288 with 1 Axes>"
            ]
          },
          "metadata": {
            "tags": []
          }
        }
      ]
    },
    {
      "cell_type": "code",
      "metadata": {
        "id": "LTMVfyRvM1PL",
        "colab_type": "code",
        "colab": {
          "base_uri": "https://localhost:8080/",
          "height": 33
        },
        "outputId": "242633d3-f201-4edc-ba3b-be31961370da"
      },
      "source": [
        "USERS[127771,:]"
      ],
      "execution_count": 67,
      "outputs": [
        {
          "output_type": "execute_result",
          "data": {
            "text/plain": [
              "array([0.32294215, 0.60242845, 0.55836286, 0.5404673 , 0.40399469])"
            ]
          },
          "metadata": {
            "tags": []
          },
          "execution_count": 67
        }
      ]
    },
    {
      "cell_type": "code",
      "metadata": {
        "id": "81dUMfVkM080",
        "colab_type": "code",
        "colab": {}
      },
      "source": [
        ""
      ],
      "execution_count": 0,
      "outputs": []
    },
    {
      "cell_type": "code",
      "metadata": {
        "id": "76PgdpvkZItq",
        "colab_type": "code",
        "colab": {}
      },
      "source": [
        ""
      ],
      "execution_count": 0,
      "outputs": []
    },
    {
      "cell_type": "code",
      "metadata": {
        "id": "iSPC5AN6ZIPE",
        "colab_type": "code",
        "colab": {}
      },
      "source": [
        ""
      ],
      "execution_count": 0,
      "outputs": []
    },
    {
      "cell_type": "markdown",
      "metadata": {
        "id": "_B_M8ts8Yz_B",
        "colab_type": "text"
      },
      "source": [
        "## rough work"
      ]
    },
    {
      "cell_type": "code",
      "metadata": {
        "id": "m78tZRl4Dhk3",
        "colab_type": "code",
        "colab": {}
      },
      "source": [
        "USERS[1,:]*SONGS[1,:]"
      ],
      "execution_count": 0,
      "outputs": []
    },
    {
      "cell_type": "code",
      "metadata": {
        "id": "3cPuZCHlE6-R",
        "colab_type": "code",
        "colab": {}
      },
      "source": [
        "A=dict()\n",
        "A['akshay']=1\n",
        "A['kumar']=2\n",
        "A['singh']=3"
      ],
      "execution_count": 0,
      "outputs": []
    },
    {
      "cell_type": "code",
      "metadata": {
        "id": "9fAszaY8IFJt",
        "colab_type": "code",
        "colab": {}
      },
      "source": [
        "A=[1,2,3,2,3,4,5,4,3,4,5,6,7]\n",
        "d={x:i for }"
      ],
      "execution_count": 0,
      "outputs": []
    },
    {
      "cell_type": "code",
      "metadata": {
        "id": "lLQrWAhsIJE5",
        "colab_type": "code",
        "colab": {}
      },
      "source": [
        "for i in A:\n",
        "    print(i)"
      ],
      "execution_count": 0,
      "outputs": []
    },
    {
      "cell_type": "code",
      "metadata": {
        "id": "Oyw6JKtIIM_G",
        "colab_type": "code",
        "colab": {}
      },
      "source": [
        " 127771 * 200000 *4"
      ],
      "execution_count": 0,
      "outputs": []
    },
    {
      "cell_type": "code",
      "metadata": {
        "id": "HFsIjNB2IpYS",
        "colab_type": "code",
        "colab": {}
      },
      "source": [
        "102216800000/(2**30)"
      ],
      "execution_count": 0,
      "outputs": []
    },
    {
      "cell_type": "code",
      "metadata": {
        "id": "KwbjYm0qPDis",
        "colab_type": "code",
        "colab": {}
      },
      "source": [
        "2**10"
      ],
      "execution_count": 0,
      "outputs": []
    },
    {
      "cell_type": "code",
      "metadata": {
        "id": "KkDu1ul6y_gx",
        "colab_type": "code",
        "colab": {}
      },
      "source": [
        "plt.plot([1,1.2,1.3,1.38,1.39,2,4,8,10])\n",
        "plt.show()"
      ],
      "execution_count": 0,
      "outputs": []
    },
    {
      "cell_type": "code",
      "metadata": {
        "id": "6UbKidWNBTSj",
        "colab_type": "code",
        "colab": {}
      },
      "source": [
        ""
      ],
      "execution_count": 0,
      "outputs": []
    }
  ]
}