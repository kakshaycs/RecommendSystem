{
  "nbformat": 4,
  "nbformat_minor": 0,
  "metadata": {
    "colab": {
      "name": "RecomendedSystem.ipynb",
      "version": "0.3.2",
      "provenance": [],
      "collapsed_sections": [],
      "include_colab_link": true
    },
    "kernelspec": {
      "name": "python3",
      "display_name": "Python 3"
    },
    "accelerator": "GPU"
  },
  "cells": [
    {
      "cell_type": "markdown",
      "metadata": {
        "id": "view-in-github",
        "colab_type": "text"
      },
      "source": [
        "<a href=\"https://colab.research.google.com/github/kakshaycs/RecommendSystem/blob/master/RecomendedSystem.ipynb\" target=\"_parent\"><img src=\"https://colab.research.google.com/assets/colab-badge.svg\" alt=\"Open In Colab\"/></a>"
      ]
    },
    {
      "cell_type": "code",
      "metadata": {
        "id": "HzgRrPCFWakp",
        "colab_type": "code",
        "colab": {}
      },
      "source": [
        "# Importing Data\n",
        "\n",
        "import numpy as np\n",
        "import pandas as pd\n",
        "import matplotlib as plt\n",
        "import seaborn as sns\n",
        "from IPython.display import display, clear_output\n",
        "from random import uniform\n",
        "import time\n",
        "from random import randint"
      ],
      "execution_count": 0,
      "outputs": []
    },
    {
      "cell_type": "code",
      "metadata": {
        "id": "yrZQh7n5i3z7",
        "colab_type": "code",
        "outputId": "786fac5e-d7e0-4d93-ccda-43af7f32f6fb",
        "colab": {
          "base_uri": "https://localhost:8080/",
          "height": 34
        }
      },
      "source": [
        "# Run this cell to mount your Google Drive.\n",
        "from google.colab import drive\n",
        "drive.mount('/content/drive/')"
      ],
      "execution_count": 69,
      "outputs": [
        {
          "output_type": "stream",
          "text": [
            "Drive already mounted at /content/drive/; to attempt to forcibly remount, call drive.mount(\"/content/drive/\", force_remount=True).\n"
          ],
          "name": "stdout"
        }
      ]
    },
    {
      "cell_type": "code",
      "metadata": {
        "id": "YIbe0kMsjHBN",
        "colab_type": "code",
        "colab": {}
      },
      "source": [
        "#loading data\n",
        "data=pd.read_csv(\"drive/My Drive/Colab Notebooks/songsDataset.csv\")"
      ],
      "execution_count": 0,
      "outputs": []
    },
    {
      "cell_type": "code",
      "metadata": {
        "id": "hOJ_oyUS1Jo3",
        "colab_type": "code",
        "outputId": "44952071-a071-4095-bd21-3a8e6bb27f4d",
        "colab": {
          "base_uri": "https://localhost:8080/",
          "height": 195
        }
      },
      "source": [
        "data.head()"
      ],
      "execution_count": 71,
      "outputs": [
        {
          "output_type": "execute_result",
          "data": {
            "text/html": [
              "<div>\n",
              "<style scoped>\n",
              "    .dataframe tbody tr th:only-of-type {\n",
              "        vertical-align: middle;\n",
              "    }\n",
              "\n",
              "    .dataframe tbody tr th {\n",
              "        vertical-align: top;\n",
              "    }\n",
              "\n",
              "    .dataframe thead th {\n",
              "        text-align: right;\n",
              "    }\n",
              "</style>\n",
              "<table border=\"1\" class=\"dataframe\">\n",
              "  <thead>\n",
              "    <tr style=\"text-align: right;\">\n",
              "      <th></th>\n",
              "      <th>'userID'</th>\n",
              "      <th>'songID'</th>\n",
              "      <th>'rating'</th>\n",
              "    </tr>\n",
              "  </thead>\n",
              "  <tbody>\n",
              "    <tr>\n",
              "      <th>0</th>\n",
              "      <td>0</td>\n",
              "      <td>7171</td>\n",
              "      <td>5</td>\n",
              "    </tr>\n",
              "    <tr>\n",
              "      <th>1</th>\n",
              "      <td>0</td>\n",
              "      <td>8637</td>\n",
              "      <td>4</td>\n",
              "    </tr>\n",
              "    <tr>\n",
              "      <th>2</th>\n",
              "      <td>0</td>\n",
              "      <td>21966</td>\n",
              "      <td>4</td>\n",
              "    </tr>\n",
              "    <tr>\n",
              "      <th>3</th>\n",
              "      <td>0</td>\n",
              "      <td>35821</td>\n",
              "      <td>5</td>\n",
              "    </tr>\n",
              "    <tr>\n",
              "      <th>4</th>\n",
              "      <td>0</td>\n",
              "      <td>82446</td>\n",
              "      <td>5</td>\n",
              "    </tr>\n",
              "  </tbody>\n",
              "</table>\n",
              "</div>"
            ],
            "text/plain": [
              "   'userID'  'songID'  'rating'\n",
              "0         0      7171         5\n",
              "1         0      8637         4\n",
              "2         0     21966         4\n",
              "3         0     35821         5\n",
              "4         0     82446         5"
            ]
          },
          "metadata": {
            "tags": []
          },
          "execution_count": 71
        }
      ]
    },
    {
      "cell_type": "code",
      "metadata": {
        "id": "h-HDLPYFWspP",
        "colab_type": "code",
        "colab": {}
      },
      "source": [
        "# change column name\n",
        "data.columns=['userID','songID','rating']"
      ],
      "execution_count": 0,
      "outputs": []
    },
    {
      "cell_type": "code",
      "metadata": {
        "id": "oiLtLzPSmvGC",
        "colab_type": "code",
        "outputId": "87d1245d-5adb-445d-c49f-35c5fe97c518",
        "colab": {
          "base_uri": "https://localhost:8080/",
          "height": 50
        }
      },
      "source": [
        "# the no of user and Movie\n",
        "\n",
        "print(\"Total no of User:- \",len(set(data['songID'])))\n",
        "print(\"Total no of Songs\",len(set(data['userID'])))"
      ],
      "execution_count": 73,
      "outputs": [
        {
          "output_type": "stream",
          "text": [
            "Total no of User:-  127771\n",
            "Total no of Songs 200000\n"
          ],
          "name": "stdout"
        }
      ]
    },
    {
      "cell_type": "code",
      "metadata": {
        "id": "KsqHG5Xcmxq_",
        "colab_type": "code",
        "colab": {
          "base_uri": "https://localhost:8080/",
          "height": 34
        },
        "outputId": "08c8fb84-bca4-410b-eaec-8357e24259c5"
      },
      "source": [
        "# this is the Rating matrix that contain column is user and rows is movies\n",
        "\"\"\"    | movie1 | movie2 | movie3 \n",
        " user1  |   5    |    4   |    1\n",
        " user2  |   3    |        |    5\n",
        " user3  |   5    |    3   |    \n",
        "  \n",
        "\"\"\"\n",
        "# the R matrix is boolean matrix that denote user rated that movie or not\n",
        "print()"
      ],
      "execution_count": 74,
      "outputs": [
        {
          "output_type": "stream",
          "text": [
            "\n"
          ],
          "name": "stdout"
        }
      ]
    },
    {
      "cell_type": "markdown",
      "metadata": {
        "id": "aE718TTz9bSk",
        "colab_type": "text"
      },
      "source": [
        "# Add all the rating in dictionary formate because it use a lot of data to store in matrices"
      ]
    },
    {
      "cell_type": "code",
      "metadata": {
        "id": "Omx8kkvgm3QL",
        "colab_type": "code",
        "colab": {
          "base_uri": "https://localhost:8080/",
          "height": 34
        },
        "outputId": "064cbb97-5f01-4ee6-8e4a-4e4acc79afe2"
      },
      "source": [
        "Rating = dict()\n",
        "for i in range(2000000):\n",
        "  Rating[(data['userID'][i],data['songID'][i])] = data['rating'][i]\n",
        "  if i%100000==0:\n",
        "    clear_output(wait=True)\n",
        "    print(\"complete :- \",i/(20000))"
      ],
      "execution_count": 75,
      "outputs": [
        {
          "output_type": "stream",
          "text": [
            "complete :-  95.0\n"
          ],
          "name": "stdout"
        }
      ]
    },
    {
      "cell_type": "markdown",
      "metadata": {
        "id": "4qXVTLcv9zXQ",
        "colab_type": "text"
      },
      "source": [
        "**Now assume 5 features of each songs and user as well**"
      ]
    },
    {
      "cell_type": "markdown",
      "metadata": {
        "id": "0hjemWq1-B8H",
        "colab_type": "text"
      },
      "source": [
        "example:-           \n",
        "\n",
        "1.   melody\n",
        "2.   romance\n",
        "3. Rock\n",
        "4. pop\n",
        "5. classic"
      ]
    },
    {
      "cell_type": "markdown",
      "metadata": {
        "id": "PeRrvJ2m_AkQ",
        "colab_type": "text"
      },
      "source": [
        "***we assign a random value for each categories in User And Songs Features***\n",
        "\n",
        "\n",
        "---\n",
        "\n",
        "\n",
        "Total no of User is 127771 and Songs is 200000 <br> \n",
        "So we create two matrix    USER (127771  ,  5) and Song  (200000, 5)"
      ]
    },
    {
      "cell_type": "code",
      "metadata": {
        "id": "setgZqFZ6m69",
        "colab_type": "code",
        "colab": {}
      },
      "source": [
        "def randomR():\n",
        "  return round(randint(0,100)/randint(1,100),3)"
      ],
      "execution_count": 0,
      "outputs": []
    },
    {
      "cell_type": "code",
      "metadata": {
        "id": "OjJWBvCp7VYl",
        "colab_type": "code",
        "colab": {}
      },
      "source": [
        "USERS = [[randomR() for i in range(5)] for i in range(127771)]\n",
        "SONGS = [[randomR() for i in range(5)] for i in range(200000)]"
      ],
      "execution_count": 0,
      "outputs": []
    },
    {
      "cell_type": "code",
      "metadata": {
        "id": "SgFL4ikTBxFa",
        "colab_type": "code",
        "colab": {
          "base_uri": "https://localhost:8080/",
          "height": 185
        },
        "outputId": "e9726b95-9bd3-495c-a51c-75f9034980ed"
      },
      "source": [
        "SONGS[:10]"
      ],
      "execution_count": 78,
      "outputs": [
        {
          "output_type": "execute_result",
          "data": {
            "text/plain": [
              "[[8.3, 1.111, 26.667, 0.636, 3.96],\n",
              " [0.56, 1.255, 0.48, 1.139, 0.037],\n",
              " [1.452, 0.96, 0.611, 0.902, 1.8],\n",
              " [1.147, 1.691, 0.293, 0.814, 39.0],\n",
              " [0.595, 0.362, 1.609, 1.51, 1.737],\n",
              " [3.125, 0.224, 0.674, 1.123, 0.333],\n",
              " [0.711, 1.632, 0.686, 1.195, 0.348],\n",
              " [24.25, 2.727, 0.263, 3.333, 1.929],\n",
              " [1.34, 0.926, 0.542, 5.308, 0.161],\n",
              " [3.276, 0.138, 0.643, 1.846, 9.25]]"
            ]
          },
          "metadata": {
            "tags": []
          },
          "execution_count": 78
        }
      ]
    },
    {
      "cell_type": "code",
      "metadata": {
        "id": "er4MdOToDLeJ",
        "colab_type": "code",
        "colab": {}
      },
      "source": [
        "# define a function that produce dot product of Songs[i],user[j]\n",
        "def DOT(A,B):\n",
        "  Temp=0\n",
        "  for i in range(5):\n",
        "    Temp+=A[i]*B[i]\n",
        "  return Temp"
      ],
      "execution_count": 0,
      "outputs": []
    },
    {
      "cell_type": "code",
      "metadata": {
        "id": "m78tZRl4Dhk3",
        "colab_type": "code",
        "colab": {}
      },
      "source": [
        ""
      ],
      "execution_count": 0,
      "outputs": []
    },
    {
      "cell_type": "code",
      "metadata": {
        "id": "3cPuZCHlE6-R",
        "colab_type": "code",
        "colab": {}
      },
      "source": [
        "A=dict()\n",
        "A['akshay']=1\n",
        "A['kumar']=2\n",
        "A['singh']=3"
      ],
      "execution_count": 0,
      "outputs": []
    },
    {
      "cell_type": "code",
      "metadata": {
        "id": "9fAszaY8IFJt",
        "colab_type": "code",
        "colab": {
          "base_uri": "https://localhost:8080/",
          "height": 34
        },
        "outputId": "bdf67e1d-6939-44ba-f627-9b7e3dfb6453"
      },
      "source": [
        "A"
      ],
      "execution_count": 82,
      "outputs": [
        {
          "output_type": "execute_result",
          "data": {
            "text/plain": [
              "{'akshay': 1, 'kumar': 2, 'singh': 3}"
            ]
          },
          "metadata": {
            "tags": []
          },
          "execution_count": 82
        }
      ]
    },
    {
      "cell_type": "code",
      "metadata": {
        "id": "lLQrWAhsIJE5",
        "colab_type": "code",
        "colab": {
          "base_uri": "https://localhost:8080/",
          "height": 67
        },
        "outputId": "d844cb7e-865e-47b0-e99b-376a4e1a1cc6"
      },
      "source": [
        "for i in A:\n",
        "  print(i)"
      ],
      "execution_count": 86,
      "outputs": [
        {
          "output_type": "stream",
          "text": [
            "akshay\n",
            "kumar\n",
            "singh\n"
          ],
          "name": "stdout"
        }
      ]
    },
    {
      "cell_type": "code",
      "metadata": {
        "id": "Oyw6JKtIIM_G",
        "colab_type": "code",
        "colab": {}
      },
      "source": [
        ""
      ],
      "execution_count": 0,
      "outputs": []
    },
    {
      "cell_type": "code",
      "metadata": {
        "id": "HFsIjNB2IpYS",
        "colab_type": "code",
        "colab": {}
      },
      "source": [
        ""
      ],
      "execution_count": 0,
      "outputs": []
    }
  ]
}